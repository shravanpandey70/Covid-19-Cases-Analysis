{
  "nbformat": 4,
  "nbformat_minor": 0,
  "metadata": {
    "colab": {
      "provenance": [],
      "collapsed_sections": [],
      "toc_visible": true
    },
    "kernelspec": {
      "name": "python3",
      "display_name": "Python 3"
    },
    "language_info": {
      "name": "python"
    }
  },
  "cells": [
    {
      "cell_type": "code",
      "execution_count": null,
      "metadata": {
        "id": "eyIH3Msld6fp"
      },
      "outputs": [],
      "source": [
        "import pandas as pd\n",
        "import matplotlib.pyplot as plt\n",
        "import numpy as np\n",
        "import requests as r\n",
        "import json as js"
      ]
    },
    {
      "cell_type": "markdown",
      "source": [
        "# Importing the Data from json link"
      ],
      "metadata": {
        "id": "sqPLWV2QqbIG"
      }
    },
    {
      "cell_type": "code",
      "source": [
        "url1='https://data.covid19india.org/v4/min/data.min.json'"
      ],
      "metadata": {
        "id": "MBNSMhjUeA7s"
      },
      "execution_count": null,
      "outputs": []
    },
    {
      "cell_type": "code",
      "source": [
        "url2='https://data.covid19india.org/v4/min/timeseries.min.json'"
      ],
      "metadata": {
        "id": "dxc9IK6jeGLA"
      },
      "execution_count": null,
      "outputs": []
    },
    {
      "cell_type": "code",
      "source": [
        "data1=r.get(url1).text"
      ],
      "metadata": {
        "id": "RO1aqHhIeIeW"
      },
      "execution_count": null,
      "outputs": []
    },
    {
      "cell_type": "code",
      "source": [
        "dict1=js.loads(data1)"
      ],
      "metadata": {
        "id": "P1FqB8y6eNUt"
      },
      "execution_count": null,
      "outputs": []
    },
    {
      "cell_type": "code",
      "source": [
        "pd.DataFrame.from_dict(dict1)"
      ],
      "metadata": {
        "colab": {
          "base_uri": "https://localhost:8080/",
          "height": 661
        },
        "id": "o1dXxJ6ueSMR",
        "outputId": "380b3c75-998e-41ea-c4ac-31c6e616c713"
      },
      "execution_count": null,
      "outputs": [
        {
          "output_type": "execute_result",
          "data": {
            "text/plain": [
              "                                                           AN  \\\n",
              "delta       {'tested': 1376, 'vaccinated1': 3, 'vaccinated...   \n",
              "delta21_14                                   {'confirmed': 9}   \n",
              "delta7      {'confirmed': 3, 'recovered': 5, 'tested': 893...   \n",
              "districts   {'Nicobars': {'delta7': {'vaccinated1': 62, 'v...   \n",
              "meta        {'date': '2021-10-31', 'last_updated': '2021-1...   \n",
              "total       {'confirmed': 7651, 'deceased': 129, 'recovere...   \n",
              "\n",
              "                                                           AP  \\\n",
              "delta       {'confirmed': 385, 'deceased': 4, 'recovered':...   \n",
              "delta21_14                                {'confirmed': 3220}   \n",
              "delta7      {'confirmed': 2873, 'deceased': 30, 'recovered...   \n",
              "districts   {'Anantapur': {'delta': {'confirmed': 4, 'reco...   \n",
              "meta        {'date': '2021-10-31', 'last_updated': '2021-1...   \n",
              "total       {'confirmed': 2066450, 'deceased': 14373, 'rec...   \n",
              "\n",
              "                                                           AR  \\\n",
              "delta       {'confirmed': 1, 'recovered': 9, 'tested': 334...   \n",
              "delta21_14                                  {'confirmed': 87}   \n",
              "delta7      {'confirmed': 66, 'recovered': 97, 'tested': 4...   \n",
              "districts   {'Anjaw': {'delta7': {'vaccinated1': 45, 'vacc...   \n",
              "meta        {'date': '2021-10-31', 'last_updated': '2021-1...   \n",
              "total       {'confirmed': 55155, 'deceased': 280, 'recover...   \n",
              "\n",
              "                                                           AS  \\\n",
              "delta       {'confirmed': 212, 'deceased': 1, 'recovered':...   \n",
              "delta21_14                                {'confirmed': 1499}   \n",
              "delta7      {'confirmed': 2056, 'deceased': 24, 'recovered...   \n",
              "districts   {'Baksa': {'delta': {'vaccinated1': 39, 'vacci...   \n",
              "meta        {'date': '2021-10-31', 'last_updated': '2021-1...   \n",
              "total       {'confirmed': 610645, 'deceased': 5997, 'other...   \n",
              "\n",
              "                                                           BR  \\\n",
              "delta       {'confirmed': 8, 'recovered': 9, 'tested': 226...   \n",
              "delta21_14                                  {'confirmed': 30}   \n",
              "delta7      {'confirmed': 40, 'recovered': 31, 'tested': 1...   \n",
              "districts   {'Araria': {'delta': {'vaccinated1': 5177, 'va...   \n",
              "meta        {'date': '2021-10-31', 'last_updated': '2021-1...   \n",
              "total       {'confirmed': 726098, 'deceased': 9661, 'other...   \n",
              "\n",
              "                                                           CH  \\\n",
              "delta       {'confirmed': 5, 'recovered': 3, 'tested': 140...   \n",
              "delta21_14                                  {'confirmed': 23}   \n",
              "delta7      {'confirmed': 28, 'recovered': 20, 'tested': 1...   \n",
              "districts   {'Chandigarh': {'delta': {'confirmed': 5, 'rec...   \n",
              "meta        {'date': '2021-10-31', 'last_updated': '2021-1...   \n",
              "total       {'confirmed': 65351, 'deceased': 820, 'recover...   \n",
              "\n",
              "                                                           CT  \\\n",
              "delta       {'confirmed': 32, 'deceased': 1, 'recovered': ...   \n",
              "delta21_14                                 {'confirmed': 124}   \n",
              "delta7      {'confirmed': 205, 'deceased': 5, 'recovered':...   \n",
              "districts   {'Balod': {'delta': {'vaccinated1': 523, 'vacc...   \n",
              "meta        {'date': '2021-10-31', 'last_updated': '2021-1...   \n",
              "total       {'confirmed': 1006052, 'deceased': 13577, 'rec...   \n",
              "\n",
              "                                                           DL  \\\n",
              "delta       {'confirmed': 45, 'recovered': 46, 'tested': 5...   \n",
              "delta21_14                                 {'confirmed': 195}   \n",
              "delta7      {'confirmed': 267, 'recovered': 239, 'tested':...   \n",
              "districts   {'Delhi': {'delta': {'confirmed': 45, 'recover...   \n",
              "meta        {'date': '2021-10-31', 'last_updated': '2021-1...   \n",
              "total       {'confirmed': 1439870, 'deceased': 25091, 'rec...   \n",
              "\n",
              "                                                           DN  \\\n",
              "delta       {'recovered': 1, 'vaccinated1': 3, 'vaccinated...   \n",
              "delta21_14                                   {'confirmed': 4}   \n",
              "delta7      {'recovered': 2, 'vaccinated1': 2802, 'vaccina...   \n",
              "districts   {'Dadra and Nagar Haveli': {'delta': {'vaccina...   \n",
              "meta        {'date': '2021-10-31', 'last_updated': '2021-1...   \n",
              "total       {'confirmed': 10681, 'deceased': 4, 'other': 3...   \n",
              "\n",
              "                                                           GA  ...  \\\n",
              "delta       {'confirmed': 23, 'recovered': 53, 'tested': 2...  ...   \n",
              "delta21_14                                 {'confirmed': 409}  ...   \n",
              "delta7      {'confirmed': 222, 'deceased': 6, 'recovered':...  ...   \n",
              "districts   {'North Goa': {'delta': {'vaccinated1': 1070, ...  ...   \n",
              "meta        {'date': '2021-10-31', 'last_updated': '2021-1...  ...   \n",
              "total       {'confirmed': 178108, 'deceased': 3364, 'recov...  ...   \n",
              "\n",
              "                                                           PY  \\\n",
              "delta       {'confirmed': 38, 'recovered': 45, 'tested': 2...   \n",
              "delta21_14                                 {'confirmed': 343}   \n",
              "delta7      {'confirmed': 278, 'recovered': 315, 'tested':...   \n",
              "districts   {'Karaikal': {'delta': {'confirmed': 6, 'recov...   \n",
              "meta        {'date': '2021-10-31', 'last_updated': '2021-1...   \n",
              "total       {'confirmed': 128013, 'deceased': 1857, 'recov...   \n",
              "\n",
              "                                                           RJ  \\\n",
              "delta       {'confirmed': 2, 'recovered': 2, 'tested': 134...   \n",
              "delta21_14                                  {'confirmed': 31}   \n",
              "delta7      {'confirmed': 27, 'recovered': 26, 'tested': 9...   \n",
              "districts   {'Ajmer': {'delta': {'vaccinated1': 110, 'vacc...   \n",
              "meta        {'date': '2021-10-31', 'last_updated': '2021-1...   \n",
              "total       {'confirmed': 954429, 'deceased': 8954, 'recov...   \n",
              "\n",
              "                                                           SK  \\\n",
              "delta       {'confirmed': 21, 'deceased': 1, 'recovered': ...   \n",
              "delta21_14                                  {'confirmed': 82}   \n",
              "delta7      {'confirmed': 79, 'deceased': 2, 'other': 6, '...   \n",
              "districts   {'East Sikkim': {'delta7': {'vaccinated1': 528...   \n",
              "meta        {'date': '2021-10-31', 'last_updated': '2021-1...   \n",
              "total       {'confirmed': 31979, 'deceased': 396, 'other':...   \n",
              "\n",
              "                                                           TG  \\\n",
              "delta       {'confirmed': 121, 'deceased': 1, 'recovered':...   \n",
              "delta21_14                                {'confirmed': 1068}   \n",
              "delta7      {'confirmed': 1189, 'deceased': 9, 'recovered'...   \n",
              "districts   {'Adilabad': {'delta': {'vaccinated1': 165, 'v...   \n",
              "meta        {'date': '2021-10-31', 'last_updated': '2021-1...   \n",
              "total       {'confirmed': 671463, 'deceased': 3956, 'recov...   \n",
              "\n",
              "                                                           TN  \\\n",
              "delta       {'confirmed': 1009, 'deceased': 19, 'recovered...   \n",
              "delta21_14                                {'confirmed': 8827}   \n",
              "delta7      {'confirmed': 7407, 'deceased': 97, 'recovered...   \n",
              "districts   {'Airport Quarantine': {'delta21_14': {'confir...   \n",
              "meta        {'date': '2021-10-31', 'last_updated': '2021-1...   \n",
              "total       {'confirmed': 2702623, 'deceased': 36116, 'rec...   \n",
              "\n",
              "                                                           TR  \\\n",
              "delta       {'confirmed': 12, 'recovered': 2, 'tested': 35...   \n",
              "delta21_14                                  {'confirmed': 49}   \n",
              "delta7      {'confirmed': 87, 'recovered': 62, 'tested': 2...   \n",
              "districts   {'Dhalai': {'delta': {'vaccinated1': 5, 'vacci...   \n",
              "meta        {'date': '2021-10-31', 'last_updated': '2021-1...   \n",
              "total       {'confirmed': 84468, 'deceased': 813, 'other':...   \n",
              "\n",
              "                                                           TT  \\\n",
              "delta       {'confirmed': 12907, 'deceased': 251, 'other':...   \n",
              "delta21_14                              {'confirmed': 109755}   \n",
              "delta7      {'confirmed': 96071, 'deceased': 3727, 'other'...   \n",
              "districts                                                 NaN   \n",
              "meta        {'date': '2021-10-31', 'last_updated': '2021-1...   \n",
              "total       {'confirmed': 34285612, 'deceased': 458470, 'o...   \n",
              "\n",
              "                                                           UP  \\\n",
              "delta       {'confirmed': 6, 'recovered': 6, 'tested': 161...   \n",
              "delta21_14                                  {'confirmed': 74}   \n",
              "delta7      {'confirmed': 63, 'deceased': 1, 'recovered': ...   \n",
              "districts   {'Agra': {'delta': {'vaccinated1': 178, 'vacci...   \n",
              "meta        {'date': '2021-10-31', 'last_updated': '2021-1...   \n",
              "total       {'confirmed': 1710158, 'deceased': 22900, 'rec...   \n",
              "\n",
              "                                                           UT  \\\n",
              "delta       {'confirmed': 5, 'recovered': 9, 'tested': 952...   \n",
              "delta21_14                                  {'confirmed': 88}   \n",
              "delta7      {'confirmed': 75, 'deceased': 1, 'other': 12, ...   \n",
              "districts   {'Almora': {'delta': {'vaccinated1': 37, 'vacc...   \n",
              "meta        {'date': '2021-10-31', 'last_updated': '2021-1...   \n",
              "total       {'confirmed': 343896, 'deceased': 7400, 'other...   \n",
              "\n",
              "                                                           WB  \n",
              "delta       {'confirmed': 914, 'deceased': 15, 'recovered'...  \n",
              "delta21_14                                {'confirmed': 4193}  \n",
              "delta7      {'confirmed': 6453, 'deceased': 86, 'recovered...  \n",
              "districts   {'Alipurduar': {'delta': {'confirmed': 4, 'rec...  \n",
              "meta        {'date': '2021-10-31', 'last_updated': '2021-1...  \n",
              "total       {'confirmed': 1592908, 'deceased': 19141, 'rec...  \n",
              "\n",
              "[6 rows x 37 columns]"
            ],
            "text/html": [
              "\n",
              "  <div id=\"df-2f9582dd-83dc-4f18-9282-f47a632158b7\">\n",
              "    <div class=\"colab-df-container\">\n",
              "      <div>\n",
              "<style scoped>\n",
              "    .dataframe tbody tr th:only-of-type {\n",
              "        vertical-align: middle;\n",
              "    }\n",
              "\n",
              "    .dataframe tbody tr th {\n",
              "        vertical-align: top;\n",
              "    }\n",
              "\n",
              "    .dataframe thead th {\n",
              "        text-align: right;\n",
              "    }\n",
              "</style>\n",
              "<table border=\"1\" class=\"dataframe\">\n",
              "  <thead>\n",
              "    <tr style=\"text-align: right;\">\n",
              "      <th></th>\n",
              "      <th>AN</th>\n",
              "      <th>AP</th>\n",
              "      <th>AR</th>\n",
              "      <th>AS</th>\n",
              "      <th>BR</th>\n",
              "      <th>CH</th>\n",
              "      <th>CT</th>\n",
              "      <th>DL</th>\n",
              "      <th>DN</th>\n",
              "      <th>GA</th>\n",
              "      <th>...</th>\n",
              "      <th>PY</th>\n",
              "      <th>RJ</th>\n",
              "      <th>SK</th>\n",
              "      <th>TG</th>\n",
              "      <th>TN</th>\n",
              "      <th>TR</th>\n",
              "      <th>TT</th>\n",
              "      <th>UP</th>\n",
              "      <th>UT</th>\n",
              "      <th>WB</th>\n",
              "    </tr>\n",
              "  </thead>\n",
              "  <tbody>\n",
              "    <tr>\n",
              "      <th>delta</th>\n",
              "      <td>{'tested': 1376, 'vaccinated1': 3, 'vaccinated...</td>\n",
              "      <td>{'confirmed': 385, 'deceased': 4, 'recovered':...</td>\n",
              "      <td>{'confirmed': 1, 'recovered': 9, 'tested': 334...</td>\n",
              "      <td>{'confirmed': 212, 'deceased': 1, 'recovered':...</td>\n",
              "      <td>{'confirmed': 8, 'recovered': 9, 'tested': 226...</td>\n",
              "      <td>{'confirmed': 5, 'recovered': 3, 'tested': 140...</td>\n",
              "      <td>{'confirmed': 32, 'deceased': 1, 'recovered': ...</td>\n",
              "      <td>{'confirmed': 45, 'recovered': 46, 'tested': 5...</td>\n",
              "      <td>{'recovered': 1, 'vaccinated1': 3, 'vaccinated...</td>\n",
              "      <td>{'confirmed': 23, 'recovered': 53, 'tested': 2...</td>\n",
              "      <td>...</td>\n",
              "      <td>{'confirmed': 38, 'recovered': 45, 'tested': 2...</td>\n",
              "      <td>{'confirmed': 2, 'recovered': 2, 'tested': 134...</td>\n",
              "      <td>{'confirmed': 21, 'deceased': 1, 'recovered': ...</td>\n",
              "      <td>{'confirmed': 121, 'deceased': 1, 'recovered':...</td>\n",
              "      <td>{'confirmed': 1009, 'deceased': 19, 'recovered...</td>\n",
              "      <td>{'confirmed': 12, 'recovered': 2, 'tested': 35...</td>\n",
              "      <td>{'confirmed': 12907, 'deceased': 251, 'other':...</td>\n",
              "      <td>{'confirmed': 6, 'recovered': 6, 'tested': 161...</td>\n",
              "      <td>{'confirmed': 5, 'recovered': 9, 'tested': 952...</td>\n",
              "      <td>{'confirmed': 914, 'deceased': 15, 'recovered'...</td>\n",
              "    </tr>\n",
              "    <tr>\n",
              "      <th>delta21_14</th>\n",
              "      <td>{'confirmed': 9}</td>\n",
              "      <td>{'confirmed': 3220}</td>\n",
              "      <td>{'confirmed': 87}</td>\n",
              "      <td>{'confirmed': 1499}</td>\n",
              "      <td>{'confirmed': 30}</td>\n",
              "      <td>{'confirmed': 23}</td>\n",
              "      <td>{'confirmed': 124}</td>\n",
              "      <td>{'confirmed': 195}</td>\n",
              "      <td>{'confirmed': 4}</td>\n",
              "      <td>{'confirmed': 409}</td>\n",
              "      <td>...</td>\n",
              "      <td>{'confirmed': 343}</td>\n",
              "      <td>{'confirmed': 31}</td>\n",
              "      <td>{'confirmed': 82}</td>\n",
              "      <td>{'confirmed': 1068}</td>\n",
              "      <td>{'confirmed': 8827}</td>\n",
              "      <td>{'confirmed': 49}</td>\n",
              "      <td>{'confirmed': 109755}</td>\n",
              "      <td>{'confirmed': 74}</td>\n",
              "      <td>{'confirmed': 88}</td>\n",
              "      <td>{'confirmed': 4193}</td>\n",
              "    </tr>\n",
              "    <tr>\n",
              "      <th>delta7</th>\n",
              "      <td>{'confirmed': 3, 'recovered': 5, 'tested': 893...</td>\n",
              "      <td>{'confirmed': 2873, 'deceased': 30, 'recovered...</td>\n",
              "      <td>{'confirmed': 66, 'recovered': 97, 'tested': 4...</td>\n",
              "      <td>{'confirmed': 2056, 'deceased': 24, 'recovered...</td>\n",
              "      <td>{'confirmed': 40, 'recovered': 31, 'tested': 1...</td>\n",
              "      <td>{'confirmed': 28, 'recovered': 20, 'tested': 1...</td>\n",
              "      <td>{'confirmed': 205, 'deceased': 5, 'recovered':...</td>\n",
              "      <td>{'confirmed': 267, 'recovered': 239, 'tested':...</td>\n",
              "      <td>{'recovered': 2, 'vaccinated1': 2802, 'vaccina...</td>\n",
              "      <td>{'confirmed': 222, 'deceased': 6, 'recovered':...</td>\n",
              "      <td>...</td>\n",
              "      <td>{'confirmed': 278, 'recovered': 315, 'tested':...</td>\n",
              "      <td>{'confirmed': 27, 'recovered': 26, 'tested': 9...</td>\n",
              "      <td>{'confirmed': 79, 'deceased': 2, 'other': 6, '...</td>\n",
              "      <td>{'confirmed': 1189, 'deceased': 9, 'recovered'...</td>\n",
              "      <td>{'confirmed': 7407, 'deceased': 97, 'recovered...</td>\n",
              "      <td>{'confirmed': 87, 'recovered': 62, 'tested': 2...</td>\n",
              "      <td>{'confirmed': 96071, 'deceased': 3727, 'other'...</td>\n",
              "      <td>{'confirmed': 63, 'deceased': 1, 'recovered': ...</td>\n",
              "      <td>{'confirmed': 75, 'deceased': 1, 'other': 12, ...</td>\n",
              "      <td>{'confirmed': 6453, 'deceased': 86, 'recovered...</td>\n",
              "    </tr>\n",
              "    <tr>\n",
              "      <th>districts</th>\n",
              "      <td>{'Nicobars': {'delta7': {'vaccinated1': 62, 'v...</td>\n",
              "      <td>{'Anantapur': {'delta': {'confirmed': 4, 'reco...</td>\n",
              "      <td>{'Anjaw': {'delta7': {'vaccinated1': 45, 'vacc...</td>\n",
              "      <td>{'Baksa': {'delta': {'vaccinated1': 39, 'vacci...</td>\n",
              "      <td>{'Araria': {'delta': {'vaccinated1': 5177, 'va...</td>\n",
              "      <td>{'Chandigarh': {'delta': {'confirmed': 5, 'rec...</td>\n",
              "      <td>{'Balod': {'delta': {'vaccinated1': 523, 'vacc...</td>\n",
              "      <td>{'Delhi': {'delta': {'confirmed': 45, 'recover...</td>\n",
              "      <td>{'Dadra and Nagar Haveli': {'delta': {'vaccina...</td>\n",
              "      <td>{'North Goa': {'delta': {'vaccinated1': 1070, ...</td>\n",
              "      <td>...</td>\n",
              "      <td>{'Karaikal': {'delta': {'confirmed': 6, 'recov...</td>\n",
              "      <td>{'Ajmer': {'delta': {'vaccinated1': 110, 'vacc...</td>\n",
              "      <td>{'East Sikkim': {'delta7': {'vaccinated1': 528...</td>\n",
              "      <td>{'Adilabad': {'delta': {'vaccinated1': 165, 'v...</td>\n",
              "      <td>{'Airport Quarantine': {'delta21_14': {'confir...</td>\n",
              "      <td>{'Dhalai': {'delta': {'vaccinated1': 5, 'vacci...</td>\n",
              "      <td>NaN</td>\n",
              "      <td>{'Agra': {'delta': {'vaccinated1': 178, 'vacci...</td>\n",
              "      <td>{'Almora': {'delta': {'vaccinated1': 37, 'vacc...</td>\n",
              "      <td>{'Alipurduar': {'delta': {'confirmed': 4, 'rec...</td>\n",
              "    </tr>\n",
              "    <tr>\n",
              "      <th>meta</th>\n",
              "      <td>{'date': '2021-10-31', 'last_updated': '2021-1...</td>\n",
              "      <td>{'date': '2021-10-31', 'last_updated': '2021-1...</td>\n",
              "      <td>{'date': '2021-10-31', 'last_updated': '2021-1...</td>\n",
              "      <td>{'date': '2021-10-31', 'last_updated': '2021-1...</td>\n",
              "      <td>{'date': '2021-10-31', 'last_updated': '2021-1...</td>\n",
              "      <td>{'date': '2021-10-31', 'last_updated': '2021-1...</td>\n",
              "      <td>{'date': '2021-10-31', 'last_updated': '2021-1...</td>\n",
              "      <td>{'date': '2021-10-31', 'last_updated': '2021-1...</td>\n",
              "      <td>{'date': '2021-10-31', 'last_updated': '2021-1...</td>\n",
              "      <td>{'date': '2021-10-31', 'last_updated': '2021-1...</td>\n",
              "      <td>...</td>\n",
              "      <td>{'date': '2021-10-31', 'last_updated': '2021-1...</td>\n",
              "      <td>{'date': '2021-10-31', 'last_updated': '2021-1...</td>\n",
              "      <td>{'date': '2021-10-31', 'last_updated': '2021-1...</td>\n",
              "      <td>{'date': '2021-10-31', 'last_updated': '2021-1...</td>\n",
              "      <td>{'date': '2021-10-31', 'last_updated': '2021-1...</td>\n",
              "      <td>{'date': '2021-10-31', 'last_updated': '2021-1...</td>\n",
              "      <td>{'date': '2021-10-31', 'last_updated': '2021-1...</td>\n",
              "      <td>{'date': '2021-10-31', 'last_updated': '2021-1...</td>\n",
              "      <td>{'date': '2021-10-31', 'last_updated': '2021-1...</td>\n",
              "      <td>{'date': '2021-10-31', 'last_updated': '2021-1...</td>\n",
              "    </tr>\n",
              "    <tr>\n",
              "      <th>total</th>\n",
              "      <td>{'confirmed': 7651, 'deceased': 129, 'recovere...</td>\n",
              "      <td>{'confirmed': 2066450, 'deceased': 14373, 'rec...</td>\n",
              "      <td>{'confirmed': 55155, 'deceased': 280, 'recover...</td>\n",
              "      <td>{'confirmed': 610645, 'deceased': 5997, 'other...</td>\n",
              "      <td>{'confirmed': 726098, 'deceased': 9661, 'other...</td>\n",
              "      <td>{'confirmed': 65351, 'deceased': 820, 'recover...</td>\n",
              "      <td>{'confirmed': 1006052, 'deceased': 13577, 'rec...</td>\n",
              "      <td>{'confirmed': 1439870, 'deceased': 25091, 'rec...</td>\n",
              "      <td>{'confirmed': 10681, 'deceased': 4, 'other': 3...</td>\n",
              "      <td>{'confirmed': 178108, 'deceased': 3364, 'recov...</td>\n",
              "      <td>...</td>\n",
              "      <td>{'confirmed': 128013, 'deceased': 1857, 'recov...</td>\n",
              "      <td>{'confirmed': 954429, 'deceased': 8954, 'recov...</td>\n",
              "      <td>{'confirmed': 31979, 'deceased': 396, 'other':...</td>\n",
              "      <td>{'confirmed': 671463, 'deceased': 3956, 'recov...</td>\n",
              "      <td>{'confirmed': 2702623, 'deceased': 36116, 'rec...</td>\n",
              "      <td>{'confirmed': 84468, 'deceased': 813, 'other':...</td>\n",
              "      <td>{'confirmed': 34285612, 'deceased': 458470, 'o...</td>\n",
              "      <td>{'confirmed': 1710158, 'deceased': 22900, 'rec...</td>\n",
              "      <td>{'confirmed': 343896, 'deceased': 7400, 'other...</td>\n",
              "      <td>{'confirmed': 1592908, 'deceased': 19141, 'rec...</td>\n",
              "    </tr>\n",
              "  </tbody>\n",
              "</table>\n",
              "<p>6 rows × 37 columns</p>\n",
              "</div>\n",
              "      <button class=\"colab-df-convert\" onclick=\"convertToInteractive('df-2f9582dd-83dc-4f18-9282-f47a632158b7')\"\n",
              "              title=\"Convert this dataframe to an interactive table.\"\n",
              "              style=\"display:none;\">\n",
              "        \n",
              "  <svg xmlns=\"http://www.w3.org/2000/svg\" height=\"24px\"viewBox=\"0 0 24 24\"\n",
              "       width=\"24px\">\n",
              "    <path d=\"M0 0h24v24H0V0z\" fill=\"none\"/>\n",
              "    <path d=\"M18.56 5.44l.94 2.06.94-2.06 2.06-.94-2.06-.94-.94-2.06-.94 2.06-2.06.94zm-11 1L8.5 8.5l.94-2.06 2.06-.94-2.06-.94L8.5 2.5l-.94 2.06-2.06.94zm10 10l.94 2.06.94-2.06 2.06-.94-2.06-.94-.94-2.06-.94 2.06-2.06.94z\"/><path d=\"M17.41 7.96l-1.37-1.37c-.4-.4-.92-.59-1.43-.59-.52 0-1.04.2-1.43.59L10.3 9.45l-7.72 7.72c-.78.78-.78 2.05 0 2.83L4 21.41c.39.39.9.59 1.41.59.51 0 1.02-.2 1.41-.59l7.78-7.78 2.81-2.81c.8-.78.8-2.07 0-2.86zM5.41 20L4 18.59l7.72-7.72 1.47 1.35L5.41 20z\"/>\n",
              "  </svg>\n",
              "      </button>\n",
              "      \n",
              "  <style>\n",
              "    .colab-df-container {\n",
              "      display:flex;\n",
              "      flex-wrap:wrap;\n",
              "      gap: 12px;\n",
              "    }\n",
              "\n",
              "    .colab-df-convert {\n",
              "      background-color: #E8F0FE;\n",
              "      border: none;\n",
              "      border-radius: 50%;\n",
              "      cursor: pointer;\n",
              "      display: none;\n",
              "      fill: #1967D2;\n",
              "      height: 32px;\n",
              "      padding: 0 0 0 0;\n",
              "      width: 32px;\n",
              "    }\n",
              "\n",
              "    .colab-df-convert:hover {\n",
              "      background-color: #E2EBFA;\n",
              "      box-shadow: 0px 1px 2px rgba(60, 64, 67, 0.3), 0px 1px 3px 1px rgba(60, 64, 67, 0.15);\n",
              "      fill: #174EA6;\n",
              "    }\n",
              "\n",
              "    [theme=dark] .colab-df-convert {\n",
              "      background-color: #3B4455;\n",
              "      fill: #D2E3FC;\n",
              "    }\n",
              "\n",
              "    [theme=dark] .colab-df-convert:hover {\n",
              "      background-color: #434B5C;\n",
              "      box-shadow: 0px 1px 3px 1px rgba(0, 0, 0, 0.15);\n",
              "      filter: drop-shadow(0px 1px 2px rgba(0, 0, 0, 0.3));\n",
              "      fill: #FFFFFF;\n",
              "    }\n",
              "  </style>\n",
              "\n",
              "      <script>\n",
              "        const buttonEl =\n",
              "          document.querySelector('#df-2f9582dd-83dc-4f18-9282-f47a632158b7 button.colab-df-convert');\n",
              "        buttonEl.style.display =\n",
              "          google.colab.kernel.accessAllowed ? 'block' : 'none';\n",
              "\n",
              "        async function convertToInteractive(key) {\n",
              "          const element = document.querySelector('#df-2f9582dd-83dc-4f18-9282-f47a632158b7');\n",
              "          const dataTable =\n",
              "            await google.colab.kernel.invokeFunction('convertToInteractive',\n",
              "                                                     [key], {});\n",
              "          if (!dataTable) return;\n",
              "\n",
              "          const docLinkHtml = 'Like what you see? Visit the ' +\n",
              "            '<a target=\"_blank\" href=https://colab.research.google.com/notebooks/data_table.ipynb>data table notebook</a>'\n",
              "            + ' to learn more about interactive tables.';\n",
              "          element.innerHTML = '';\n",
              "          dataTable['output_type'] = 'display_data';\n",
              "          await google.colab.output.renderOutput(dataTable, element);\n",
              "          const docLink = document.createElement('div');\n",
              "          docLink.innerHTML = docLinkHtml;\n",
              "          element.appendChild(docLink);\n",
              "        }\n",
              "      </script>\n",
              "    </div>\n",
              "  </div>\n",
              "  "
            ]
          },
          "metadata": {},
          "execution_count": 6
        }
      ]
    },
    {
      "cell_type": "code",
      "source": [
        "dfm=pd.DataFrame.from_dict(dict1).drop('districts')"
      ],
      "metadata": {
        "id": "4znSjKBMecpH"
      },
      "execution_count": null,
      "outputs": []
    },
    {
      "cell_type": "code",
      "source": [
        "dict12=dfm.to_dict()"
      ],
      "metadata": {
        "id": "Ob5jHsurejW9"
      },
      "execution_count": null,
      "outputs": []
    },
    {
      "cell_type": "code",
      "source": [
        "for state in list(dict12):\n",
        "  pd.DataFrame.from_dict(dict12[state]).to_csv('/content/State data/{}.csv'.format(state))"
      ],
      "metadata": {
        "id": "xHNEeEpJepfx"
      },
      "execution_count": null,
      "outputs": []
    },
    {
      "cell_type": "markdown",
      "source": [
        "# Converting the json file to DataFrame"
      ],
      "metadata": {
        "id": "9CO51m21ClvB"
      }
    },
    {
      "cell_type": "code",
      "source": [
        "#District dataframe is created\n",
        "districtdf=pd.DataFrame()\n",
        "for s in list(dict1):\n",
        "  if s!='TT':\n",
        "    for i in list(dict1[s]['districts']):\n",
        "      dm1=pd.DataFrame.from_dict(dict1[s]['districts'][i])\n",
        "      dm2=dm1['state']=s\n",
        "      dm3=dm1['district']=i\n",
        "      districtdf=districtdf.append(dm1)"
      ],
      "metadata": {
        "id": "JGEZfFw-fHqQ"
      },
      "execution_count": null,
      "outputs": []
    },
    {
      "cell_type": "code",
      "source": [
        "# State dataframe is created\n",
        "statedf=pd.DataFrame()\n",
        "for s in list(dict12):\n",
        "  sdm1=pd.DataFrame.from_dict(dict12[s])\n",
        "  sdm2=sdm1['state']=s\n",
        "  statedf=statedf.append(sdm1)"
      ],
      "metadata": {
        "id": "sKrzlGzsCkEi"
      },
      "execution_count": null,
      "outputs": []
    },
    {
      "cell_type": "markdown",
      "source": [
        "# Statedf EDA and data cleaning"
      ],
      "metadata": {
        "id": "a8-4j_yJs90x"
      }
    },
    {
      "cell_type": "code",
      "source": [
        "statedf[statedf['test type']=='population']"
      ],
      "metadata": {
        "id": "heiHRqvttCyV"
      },
      "execution_count": null,
      "outputs": []
    },
    {
      "cell_type": "code",
      "source": [
        "ch=statedf[statedf['test type']=='population']['total']=statedf[statedf['test type']=='population']['total'].fillna(statedf[statedf['test type']=='population']['meta'],inplace=True)"
      ],
      "metadata": {
        "id": "QfhhdtCatC1c"
      },
      "execution_count": null,
      "outputs": []
    },
    {
      "cell_type": "code",
      "source": [
        "statedf.head(10)"
      ],
      "metadata": {
        "id": "JSsSOgN0tC9M"
      },
      "execution_count": null,
      "outputs": []
    },
    {
      "cell_type": "code",
      "source": [
        "statedf['total'] = np.where(statedf.meta.str.isnumeric(), statedf.meta, statedf.total)"
      ],
      "metadata": {
        "id": "rx8G1OfjtDCx"
      },
      "execution_count": null,
      "outputs": []
    },
    {
      "cell_type": "code",
      "source": [
        "statedf.drop('meta',axis=1,inplace=True)"
      ],
      "metadata": {
        "id": "NqPzGnrdtOGD"
      },
      "execution_count": null,
      "outputs": []
    },
    {
      "cell_type": "code",
      "source": [
        "statedf[statedf['test type']=='population']"
      ],
      "metadata": {
        "id": "ZkP43FJdtOLa"
      },
      "execution_count": null,
      "outputs": []
    },
    {
      "cell_type": "code",
      "source": [
        "statedf.columns = [c.replace(' ', '_') for c in statedf.columns]\n",
        "statedf.columns"
      ],
      "metadata": {
        "id": "nQPy2P1ftONw"
      },
      "execution_count": null,
      "outputs": []
    },
    {
      "cell_type": "code",
      "source": [
        "statedf.drop(statedf[statedf.test_type.isin([\"date\", \"last_updated\",'notes'])].index,inplace=True)"
      ],
      "metadata": {
        "id": "rzGYUaxetOQU"
      },
      "execution_count": null,
      "outputs": []
    },
    {
      "cell_type": "code",
      "source": [
        "statedf.head(50)"
      ],
      "metadata": {
        "id": "8xxPBXJItOTm"
      },
      "execution_count": null,
      "outputs": []
    },
    {
      "cell_type": "code",
      "source": [
        "statedf.fillna(0,inplace=True)"
      ],
      "metadata": {
        "id": "DmWnzZLItZPL"
      },
      "execution_count": null,
      "outputs": []
    },
    {
      "cell_type": "code",
      "source": [
        "statedf.drop(statedf[statedf['test_type'] == 0].index, inplace = True)"
      ],
      "metadata": {
        "id": "59YQ6UzytZU5"
      },
      "execution_count": null,
      "outputs": []
    },
    {
      "cell_type": "code",
      "source": [
        "sdfn=statedf[statedf.test_type.isin(['tested','population'])]"
      ],
      "metadata": {
        "id": "e1jdZ6IxtfEC"
      },
      "execution_count": null,
      "outputs": []
    },
    {
      "cell_type": "code",
      "source": [
        "sdfng=sdfn.groupby(['state','test_type'])"
      ],
      "metadata": {
        "id": "fJ_NuasatfHO"
      },
      "execution_count": null,
      "outputs": []
    },
    {
      "cell_type": "code",
      "source": [
        "sdfng.first()['ctr']=[]"
      ],
      "metadata": {
        "id": "lkIszEXytfNv"
      },
      "execution_count": null,
      "outputs": []
    },
    {
      "cell_type": "code",
      "source": [],
      "metadata": {
        "id": "dm_I024TtfTt"
      },
      "execution_count": null,
      "outputs": []
    },
    {
      "cell_type": "markdown",
      "source": [
        "# working with Timeseries dataset"
      ],
      "metadata": {
        "id": "nXPioD0Ur34o"
      }
    },
    {
      "cell_type": "code",
      "source": [
        "data2=r.get(url2).text"
      ],
      "metadata": {
        "id": "iqVJCtgar9Kt"
      },
      "execution_count": null,
      "outputs": []
    },
    {
      "cell_type": "code",
      "source": [
        "dict2=js.loads(data2)"
      ],
      "metadata": {
        "id": "3gtZwSmdsDrr"
      },
      "execution_count": null,
      "outputs": []
    },
    {
      "cell_type": "code",
      "source": [
        "# Creating dataframe of timeseries data set\n",
        "datedf=pd.DataFrame()\n",
        "for state in list(dict2):\n",
        "  for i in list(dict2[state]['dates']):\n",
        "    ddff1=pd.DataFrame(dict2[state]['dates'][i])\n",
        "    ddff2=ddff1['date']=i\n",
        "    ddff3=ddff1['state']=state\n",
        "    datedf=datedf.append(ddff1)"
      ],
      "metadata": {
        "id": "hyRf98l3sERd"
      },
      "execution_count": null,
      "outputs": []
    },
    {
      "cell_type": "code",
      "source": [],
      "metadata": {
        "id": "lhbkVPO5sO88"
      },
      "execution_count": null,
      "outputs": []
    },
    {
      "cell_type": "markdown",
      "source": [
        "# EDA and Data Cleaning of dataframe datedf"
      ],
      "metadata": {
        "id": "CqviD5bZsT9n"
      }
    },
    {
      "cell_type": "code",
      "source": [
        "df_date= df_date[['date',\"state\",'delta','delta7','total','Status']]"
      ],
      "metadata": {
        "id": "ptIF5jTasaZs"
      },
      "execution_count": null,
      "outputs": []
    },
    {
      "cell_type": "code",
      "source": [
        "df_date.set_index(['date'], inplace = True)"
      ],
      "metadata": {
        "id": "DMt43ORtsgHx"
      },
      "execution_count": null,
      "outputs": []
    },
    {
      "cell_type": "code",
      "source": [
        "df_date.reset_index(['date'], inplace = True)"
      ],
      "metadata": {
        "id": "wPQgPp_3sgNK"
      },
      "execution_count": null,
      "outputs": []
    },
    {
      "cell_type": "code",
      "source": [
        "df_date.info()"
      ],
      "metadata": {
        "id": "Mms1T3RTsgTH"
      },
      "execution_count": null,
      "outputs": []
    },
    {
      "cell_type": "code",
      "source": [
        "df_date[\"date\"] = pd.to_datetime(df_date[\"date\"])"
      ],
      "metadata": {
        "id": "jTRNXm_9sgX-"
      },
      "execution_count": null,
      "outputs": []
    },
    {
      "cell_type": "code",
      "source": [
        "df_date['delta'].fillna(0, inplace=True)"
      ],
      "metadata": {
        "id": "5gVewr0asgne"
      },
      "execution_count": null,
      "outputs": []
    },
    {
      "cell_type": "code",
      "source": [
        "df_date['delta7'].fillna(0, inplace=True)"
      ],
      "metadata": {
        "id": "BOJ0z-ihsgqV"
      },
      "execution_count": null,
      "outputs": []
    }
  ]
}